{
 "cells": [
  {
   "cell_type": "code",
   "execution_count": null,
   "metadata": {},
   "outputs": [],
   "source": [
    "# !pip install [package-name]\n",
    "# !conda install [package-name]\n",
    "# conda install pandas (already installed with Anaconda)\n",
    "\n",
    "# \"Open the app\" that was installed\n",
    "\n",
    "import pandas as pd"
   ]
  },
  {
   "cell_type": "markdown",
   "metadata": {},
   "source": [
    "Generally you won't store data in Python. \n",
    "\n",
    "You will retrieve it from other places, do your processing and analysis, and export it down the pipeline...\n",
    "\n",
    "Let's read and write Excel files."
   ]
  },
  {
   "cell_type": "code",
   "execution_count": null,
   "metadata": {},
   "outputs": [],
   "source": [
    "# Read the census worksheet of census.xlsx\n",
    "#  Lots of optional arguments here... \n",
    "#  help(pd.read_excel)\n",
    "\n",
    "census = pd.read_excel('datasets/census.xlsx', sheet_name='census')\n"
   ]
  },
  {
   "cell_type": "code",
   "execution_count": null,
   "metadata": {},
   "outputs": [],
   "source": [
    "# Lots of data... just print the first bit\n",
    "census.head()"
   ]
  },
  {
   "cell_type": "code",
   "execution_count": null,
   "metadata": {},
   "outputs": [],
   "source": [
    "# Descriptive stats\n",
    "census.describe()"
   ]
  },
  {
   "cell_type": "code",
   "execution_count": null,
   "metadata": {},
   "outputs": [],
   "source": [
    "# Column values & types\n",
    "census.info()"
   ]
  },
  {
   "cell_type": "code",
   "execution_count": null,
   "metadata": {},
   "outputs": [],
   "source": [
    "# Calculate a column \n",
    "# Looks a lot like Excel Tables!\n",
    "\n",
    "census['density'] = census['population']/census['land_area']\n",
    "\n",
    "# Check our work\n",
    "census.head()"
   ]
  },
  {
   "cell_type": "code",
   "execution_count": null,
   "metadata": {},
   "outputs": [],
   "source": [
    "# Read a different worksheet from same workbook\n",
    "divisions = pd.read_excel('datasets/census.xlsx', sheet_name='divisions')\n",
    "divisions.head()"
   ]
  },
  {
   "cell_type": "code",
   "execution_count": null,
   "metadata": {},
   "outputs": [],
   "source": [
    "# Merge datasets, left outer join\n",
    "# PQers... you know this!\n",
    "\n",
    "census = census.merge(divisions, how='left')\n",
    "census.head()"
   ]
  },
  {
   "cell_type": "code",
   "execution_count": null,
   "metadata": {},
   "outputs": [],
   "source": [
    "# Get total population by region for 2015\n",
    "\n",
    "\n",
    "# 1. Filter only 2015 data\n",
    "census_2015 = census[census['year']==2015]\n",
    "\n",
    "# QA check -- list unique values in year column\n",
    "census_2015['year'].unique()"
   ]
  },
  {
   "cell_type": "code",
   "execution_count": null,
   "metadata": {},
   "outputs": [],
   "source": [
    "# PivotTable equivalent -- group by and aggregate...\n",
    "# Select region and population columns, group by region, take sum of population\n",
    "\n",
    "census_2015_agg = census_2015[['region','population']].groupby('region').sum()\n",
    "census_2015_agg"
   ]
  },
  {
   "cell_type": "code",
   "execution_count": null,
   "metadata": {},
   "outputs": [],
   "source": [
    "# Write back to Excel..\n",
    "# Read the docs for more (Help > pandas Reference)\n",
    "census_2015_agg.to_excel('output/census-report.xlsx', sheet_name='analysis')"
   ]
  },
  {
   "cell_type": "code",
   "execution_count": null,
   "metadata": {},
   "outputs": [],
   "source": []
  }
 ],
 "metadata": {
  "kernelspec": {
   "display_name": "Python 3",
   "language": "python",
   "name": "python3"
  },
  "language_info": {
   "codemirror_mode": {
    "name": "ipython",
    "version": 3
   },
   "file_extension": ".py",
   "mimetype": "text/x-python",
   "name": "python",
   "nbconvert_exporter": "python",
   "pygments_lexer": "ipython3",
   "version": "3.7.9"
  }
 },
 "nbformat": 4,
 "nbformat_minor": 2
}
